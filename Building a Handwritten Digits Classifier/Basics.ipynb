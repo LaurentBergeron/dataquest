{
 "cells": [
  {
   "cell_type": "markdown",
   "metadata": {
    "collapsed": true
   },
   "source": [
    "# Identifying handwritten digits with a multi-layer neural network\n",
    "\n",
    "This project consists of a classic deep learning exercise which is the label handwritten digits from 0 to 9. We will also compare the results with the simpler K-Nearest Neighbors algorithm. The dataset used here is loaded directly from sklearn, but is originally hosted in [UCI's machine learning repository](http://archive.ics.uci.edu/ml/datasets/Optical+Recognition+of+Handwritten+Digits)."
   ]
  },
  {
   "cell_type": "code",
   "execution_count": 117,
   "metadata": {},
   "outputs": [
    {
     "data": {
      "text/html": [
       "<div>\n",
       "<style scoped>\n",
       "    .dataframe tbody tr th:only-of-type {\n",
       "        vertical-align: middle;\n",
       "    }\n",
       "\n",
       "    .dataframe tbody tr th {\n",
       "        vertical-align: top;\n",
       "    }\n",
       "\n",
       "    .dataframe thead th {\n",
       "        text-align: right;\n",
       "    }\n",
       "</style>\n",
       "<table border=\"1\" class=\"dataframe\">\n",
       "  <thead>\n",
       "    <tr style=\"text-align: right;\">\n",
       "      <th></th>\n",
       "      <th>pixel_0</th>\n",
       "      <th>pixel_1</th>\n",
       "      <th>pixel_2</th>\n",
       "      <th>pixel_3</th>\n",
       "      <th>pixel_4</th>\n",
       "      <th>pixel_5</th>\n",
       "      <th>pixel_6</th>\n",
       "      <th>pixel_7</th>\n",
       "      <th>pixel_8</th>\n",
       "      <th>pixel_9</th>\n",
       "      <th>...</th>\n",
       "      <th>pixel_55</th>\n",
       "      <th>pixel_56</th>\n",
       "      <th>pixel_57</th>\n",
       "      <th>pixel_58</th>\n",
       "      <th>pixel_59</th>\n",
       "      <th>pixel_60</th>\n",
       "      <th>pixel_61</th>\n",
       "      <th>pixel_62</th>\n",
       "      <th>pixel_63</th>\n",
       "      <th>target</th>\n",
       "    </tr>\n",
       "  </thead>\n",
       "  <tbody>\n",
       "    <tr>\n",
       "      <td>0</td>\n",
       "      <td>0.0</td>\n",
       "      <td>0.0</td>\n",
       "      <td>5.0</td>\n",
       "      <td>13.0</td>\n",
       "      <td>9.0</td>\n",
       "      <td>1.0</td>\n",
       "      <td>0.0</td>\n",
       "      <td>0.0</td>\n",
       "      <td>0.0</td>\n",
       "      <td>0.0</td>\n",
       "      <td>...</td>\n",
       "      <td>0.0</td>\n",
       "      <td>0.0</td>\n",
       "      <td>0.0</td>\n",
       "      <td>6.0</td>\n",
       "      <td>13.0</td>\n",
       "      <td>10.0</td>\n",
       "      <td>0.0</td>\n",
       "      <td>0.0</td>\n",
       "      <td>0.0</td>\n",
       "      <td>0</td>\n",
       "    </tr>\n",
       "    <tr>\n",
       "      <td>1</td>\n",
       "      <td>0.0</td>\n",
       "      <td>0.0</td>\n",
       "      <td>0.0</td>\n",
       "      <td>12.0</td>\n",
       "      <td>13.0</td>\n",
       "      <td>5.0</td>\n",
       "      <td>0.0</td>\n",
       "      <td>0.0</td>\n",
       "      <td>0.0</td>\n",
       "      <td>0.0</td>\n",
       "      <td>...</td>\n",
       "      <td>0.0</td>\n",
       "      <td>0.0</td>\n",
       "      <td>0.0</td>\n",
       "      <td>0.0</td>\n",
       "      <td>11.0</td>\n",
       "      <td>16.0</td>\n",
       "      <td>10.0</td>\n",
       "      <td>0.0</td>\n",
       "      <td>0.0</td>\n",
       "      <td>1</td>\n",
       "    </tr>\n",
       "    <tr>\n",
       "      <td>2</td>\n",
       "      <td>0.0</td>\n",
       "      <td>0.0</td>\n",
       "      <td>0.0</td>\n",
       "      <td>4.0</td>\n",
       "      <td>15.0</td>\n",
       "      <td>12.0</td>\n",
       "      <td>0.0</td>\n",
       "      <td>0.0</td>\n",
       "      <td>0.0</td>\n",
       "      <td>0.0</td>\n",
       "      <td>...</td>\n",
       "      <td>0.0</td>\n",
       "      <td>0.0</td>\n",
       "      <td>0.0</td>\n",
       "      <td>0.0</td>\n",
       "      <td>3.0</td>\n",
       "      <td>11.0</td>\n",
       "      <td>16.0</td>\n",
       "      <td>9.0</td>\n",
       "      <td>0.0</td>\n",
       "      <td>2</td>\n",
       "    </tr>\n",
       "    <tr>\n",
       "      <td>3</td>\n",
       "      <td>0.0</td>\n",
       "      <td>0.0</td>\n",
       "      <td>7.0</td>\n",
       "      <td>15.0</td>\n",
       "      <td>13.0</td>\n",
       "      <td>1.0</td>\n",
       "      <td>0.0</td>\n",
       "      <td>0.0</td>\n",
       "      <td>0.0</td>\n",
       "      <td>8.0</td>\n",
       "      <td>...</td>\n",
       "      <td>0.0</td>\n",
       "      <td>0.0</td>\n",
       "      <td>0.0</td>\n",
       "      <td>7.0</td>\n",
       "      <td>13.0</td>\n",
       "      <td>13.0</td>\n",
       "      <td>9.0</td>\n",
       "      <td>0.0</td>\n",
       "      <td>0.0</td>\n",
       "      <td>3</td>\n",
       "    </tr>\n",
       "    <tr>\n",
       "      <td>4</td>\n",
       "      <td>0.0</td>\n",
       "      <td>0.0</td>\n",
       "      <td>0.0</td>\n",
       "      <td>1.0</td>\n",
       "      <td>11.0</td>\n",
       "      <td>0.0</td>\n",
       "      <td>0.0</td>\n",
       "      <td>0.0</td>\n",
       "      <td>0.0</td>\n",
       "      <td>0.0</td>\n",
       "      <td>...</td>\n",
       "      <td>0.0</td>\n",
       "      <td>0.0</td>\n",
       "      <td>0.0</td>\n",
       "      <td>0.0</td>\n",
       "      <td>2.0</td>\n",
       "      <td>16.0</td>\n",
       "      <td>4.0</td>\n",
       "      <td>0.0</td>\n",
       "      <td>0.0</td>\n",
       "      <td>4</td>\n",
       "    </tr>\n",
       "  </tbody>\n",
       "</table>\n",
       "<p>5 rows × 65 columns</p>\n",
       "</div>"
      ],
      "text/plain": [
       "   pixel_0  pixel_1  pixel_2  pixel_3  pixel_4  pixel_5  pixel_6  pixel_7  \\\n",
       "0      0.0      0.0      5.0     13.0      9.0      1.0      0.0      0.0   \n",
       "1      0.0      0.0      0.0     12.0     13.0      5.0      0.0      0.0   \n",
       "2      0.0      0.0      0.0      4.0     15.0     12.0      0.0      0.0   \n",
       "3      0.0      0.0      7.0     15.0     13.0      1.0      0.0      0.0   \n",
       "4      0.0      0.0      0.0      1.0     11.0      0.0      0.0      0.0   \n",
       "\n",
       "   pixel_8  pixel_9  ...  pixel_55  pixel_56  pixel_57  pixel_58  pixel_59  \\\n",
       "0      0.0      0.0  ...       0.0       0.0       0.0       6.0      13.0   \n",
       "1      0.0      0.0  ...       0.0       0.0       0.0       0.0      11.0   \n",
       "2      0.0      0.0  ...       0.0       0.0       0.0       0.0       3.0   \n",
       "3      0.0      8.0  ...       0.0       0.0       0.0       7.0      13.0   \n",
       "4      0.0      0.0  ...       0.0       0.0       0.0       0.0       2.0   \n",
       "\n",
       "   pixel_60  pixel_61  pixel_62  pixel_63  target  \n",
       "0      10.0       0.0       0.0       0.0       0  \n",
       "1      16.0      10.0       0.0       0.0       1  \n",
       "2      11.0      16.0       9.0       0.0       2  \n",
       "3      13.0       9.0       0.0       0.0       3  \n",
       "4      16.0       4.0       0.0       0.0       4  \n",
       "\n",
       "[5 rows x 65 columns]"
      ]
     },
     "execution_count": 117,
     "metadata": {},
     "output_type": "execute_result"
    }
   ],
   "source": [
    "import pandas as pd\n",
    "import numpy as np\n",
    "import matplotlib.pyplot as plt\n",
    "from sklearn.datasets import load_digits\n",
    "\n",
    "data = load_digits()\n",
    "\n",
    "# Each row conatins the 8x8=64 pixels for each image\n",
    "data_features = pd.DataFrame(data['data'], columns=['pixel_'+str(x) for x in range(64)])\n",
    "# The target identifies the number\n",
    "data_target = pd.DataFrame(data['target'], columns=['target'])\n",
    "# Merge both into a single dataframe\n",
    "df = pd.concat([data_features, data_target], axis=1)\n",
    "df.head()"
   ]
  },
  {
   "cell_type": "markdown",
   "metadata": {},
   "source": [
    "Each row contains the 8x8=64 pixels of an image. The target column indicates what number the image represents. Here's what the images look like:"
   ]
  },
  {
   "cell_type": "code",
   "execution_count": 161,
   "metadata": {},
   "outputs": [
    {
     "data": {
      "image/png": "[encoded data removed]",
      "text/plain": [
       "<Figure size 1152x504 with 30 Axes>"
      ]
     },
     "metadata": {
      "needs_background": "light"
     },
     "output_type": "display_data"
    }
   ],
   "source": [
    "fig, axes = plt.subplots(3,10, figsize=(16,7))\n",
    "\n",
    "for ii in range(10):\n",
    "    for jj in range(3):\n",
    "        axes[jj,ii].imshow(data['images'][ii + 10*jj], cmap='gray_r')"
   ]
  },
  {
   "cell_type": "markdown",
   "metadata": {},
   "source": [
    "And here's a generic function to train and test the results using K-folds cross validation, using any model from the sklearn library."
   ]
  },
  {
   "cell_type": "code",
   "execution_count": 163,
   "metadata": {},
   "outputs": [],
   "source": [
    "from sklearn.model_selection import KFold\n",
    "from sklearn.metrics import accuracy_score\n",
    "\n",
    "def train_and_crossvalidate(df, model, Nfolds=5):\n",
    "    # Build KFold object which splits the data into train and test\n",
    "    kf = KFold(n_splits=Nfolds, random_state=1)\n",
    "    # pixels contains all columns used for training\n",
    "    pixels = [x for x in df.columns if x.startswith('pixel_')]\n",
    "    \n",
    "    # Calculate accuracy score for each fold\n",
    "    accuracies = []\n",
    "    for train_index, test_index in kf.split(df):\n",
    "        # Assign train and test datasets\n",
    "        df_train = df.loc[train_index]\n",
    "        df_test = df.loc[test_index]\n",
    "        # Fit according to chosen model\n",
    "        model.fit(df_train[pixels], df_train['target'])\n",
    "        # Make predictions according to chosen model\n",
    "        predictions = model.predict(df_test[features])\n",
    "        # See how predictions compare to actual labels (the target colum)\n",
    "        accuracies.append(accuracy_score(df_test['target'], predictions))\n",
    "\n",
    "    # Return the averaged result    \n",
    "    return np.mean(accuracies)"
   ]
  },
  {
   "cell_type": "markdown",
   "metadata": {},
   "source": [
    "# K-nearest neighbors\n",
    "\n",
    "Before dwelving into deep learning, let's have a look at the results that a simple k-nearest neighbors classifier would yield."
   ]
  },
  {
   "cell_type": "code",
   "execution_count": 164,
   "metadata": {},
   "outputs": [
    {
     "data": {
      "text/plain": [
       "0.9643933766635715"
      ]
     },
     "execution_count": 164,
     "metadata": {},
     "output_type": "execute_result"
    }
   ],
   "source": [
    "from sklearn.neighbors import KNeighborsClassifier\n",
    "knn = KNeighborsClassifier(n_neighbors=5)\n",
    "train_and_crossvalidate(df, knn)"
   ]
  },
  {
   "cell_type": "markdown",
   "metadata": {},
   "source": [
    "We get an accuracy of 96.4% on the first try! This is already not so bad. Let's explore the hyperparameter space a little bit a vary the number of nearest neighbors."
   ]
  },
  {
   "cell_type": "code",
   "execution_count": 179,
   "metadata": {},
   "outputs": [
    {
     "data": {
      "image/png": "[encoded data removed]",
      "text/plain": [
       "<Figure size 432x288 with 1 Axes>"
      ]
     },
     "metadata": {
      "needs_background": "light"
     },
     "output_type": "display_data"
    }
   ],
   "source": [
    "k_list = list(range(1,10))\n",
    "accuracies = []\n",
    "for k in k_list:\n",
    "    knn = KNeighborsClassifier(n_neighbors=k)\n",
    "    acc = train_and_crossvalidate(df, knn)\n",
    "    accuracies.append(acc)\n",
    "    \n",
    "plt.figure()\n",
    "plt.plot(k_list, accuracies, '-o')\n",
    "plt.xlabel('Nearest neighbors k')\n",
    "plt.ylabel('Accuracy score')\n",
    "plt.show()"
   ]
  },
  {
   "cell_type": "markdown",
   "metadata": {},
   "source": [
    "Looks like the optimal number of neighbors is 2, with an accuracy score of 96.8%."
   ]
  },
  {
   "cell_type": "markdown",
   "metadata": {},
   "source": [
    "# Multi-layer neural network\n",
    "\n",
    "The downsides of using K-Nearest Neighbors is an expenditure of computer resources, because the calculations are applied for every test row. Let's explore the accuracy of a simple deep learning model. We will begin with a single layer and test for different sizes."
   ]
  },
  {
   "cell_type": "code",
   "execution_count": 175,
   "metadata": {},
   "outputs": [
    {
     "name": "stderr",
     "output_type": "stream",
     "text": [
      "C:\\Users\\laurent\\Anaconda3\\lib\\site-packages\\sklearn\\neural_network\\multilayer_perceptron.py:566: ConvergenceWarning: Stochastic Optimizer: Maximum iterations (1000) reached and the optimization hasn't converged yet.\n",
      "  % self.max_iter, ConvergenceWarning)\n"
     ]
    },
    {
     "data": {
      "image/png": "[encoded data removed]",
      "text/plain": [
       "<Figure size 432x288 with 1 Axes>"
      ]
     },
     "metadata": {
      "needs_background": "light"
     },
     "output_type": "display_data"
    }
   ],
   "source": [
    "from sklearn.neural_network import MLPClassifier\n",
    "\n",
    "layer_size_list = [8, 16, 32, 64, 128, 256] \n",
    "accuracies = []\n",
    "for layer_size in layer_size_list:\n",
    "    mlp = MLPClassifier(hidden_layer_sizes=(layer_size,), max_iter=1000, random_state=1)\n",
    "    acc = train_and_crossvalidate(df, mlp)\n",
    "    accuracies.append(acc)\n",
    "    \n",
    "plt.figure()\n",
    "plt.plot(layer_size_list, accuracies, '-o')\n",
    "plt.xlabel('Hidden layer size')\n",
    "plt.ylabel('Accuracy score')\n",
    "plt.show()"
   ]
  },
  {
   "cell_type": "markdown",
   "metadata": {},
   "source": [
    "As expected from the litterature, increasing the size of the hidden layer improved the accuracy of the model. The accuracy plateaus at ~128 layers."
   ]
  },
  {
   "cell_type": "code",
   "execution_count": 173,
   "metadata": {},
   "outputs": [
    {
     "data": {
      "image/png": "[encoded data removed]",
      "text/plain": [
       "<Figure size 432x288 with 1 Axes>"
      ]
     },
     "metadata": {
      "needs_background": "light"
     },
     "output_type": "display_data"
    }
   ],
   "source": [
    "layer_size_list = [8, 16, 32, 64, 128, 256] \n",
    "accuracies = []\n",
    "for layer_size in layer_size_list:\n",
    "    mlp = MLPClassifier(hidden_layer_sizes=(layer_size, layer_size), max_iter=1000, random_state=1)\n",
    "    acc = train_and_crossvalidate(df, mlp)\n",
    "    accuracies.append(acc)\n",
    "\n",
    "plt.figure()\n",
    "plt.plot(layer_size_list, accuracies, '-o')\n",
    "plt.xlabel('Hidden layer size')\n",
    "plt.ylabel('Accuracy score')\n",
    "plt.show()"
   ]
  },
  {
   "cell_type": "markdown",
   "metadata": {},
   "source": [
    "Adding a second layer improved the accuracy, with similar dependency on size. Let's now fix the size of a layer and observe the effect of adding multiple layers."
   ]
  },
  {
   "cell_type": "code",
   "execution_count": 177,
   "metadata": {},
   "outputs": [
    {
     "data": {
      "image/png": "[encoded data removed]",
      "text/plain": [
       "<Figure size 432x288 with 1 Axes>"
      ]
     },
     "metadata": {
      "needs_background": "light"
     },
     "output_type": "display_data"
    }
   ],
   "source": [
    "n_layers_list = list(range(1,7)) \n",
    "accuracies = []\n",
    "for n_layers in n_layers_list:\n",
    "    mlp = MLPClassifier(hidden_layer_sizes=(128,)*n_layers, max_iter=1000, random_state=1)\n",
    "    acc = train_and_crossvalidate(df, mlp)\n",
    "    accuracies.append(acc)\n",
    "    \n",
    "plt.figure()\n",
    "plt.plot(n_layers_list, accuracies, '-o')\n",
    "plt.xlabel('Number of hidden layers (size 128)')\n",
    "plt.ylabel('Accuracy score')\n",
    "plt.show()"
   ]
  },
  {
   "cell_type": "markdown",
   "metadata": {},
   "source": [
    "As expected, adding layers improves accuracy, up to a certain point where the model could be overfitting. Let's use 3 layers of size 128 for our final result."
   ]
  },
  {
   "cell_type": "code",
   "execution_count": 178,
   "metadata": {},
   "outputs": [
    {
     "data": {
      "text/plain": [
       "0.9521479418136799"
      ]
     },
     "execution_count": 178,
     "metadata": {},
     "output_type": "execute_result"
    }
   ],
   "source": [
    "accuracies[2]"
   ]
  },
  {
   "cell_type": "markdown",
   "metadata": {},
   "source": [
    "Thus, the accuracy of our multi-layer neural network is 95.21%. Follows an simple test for single values, where the model is trained on all data excepted for the requested test. If anything, the accuracy should be higher here because we have more training data."
   ]
  },
  {
   "cell_type": "code",
   "execution_count": 223,
   "metadata": {},
   "outputs": [
    {
     "data": {
      "image/png": "[encoded data removed]",
      "text/plain": [
       "<Figure size 432x288 with 1 Axes>"
      ]
     },
     "metadata": {
      "needs_background": "light"
     },
     "output_type": "display_data"
    }
   ],
   "source": [
    "TEST_INDEX=9\n",
    "plt.imshow(data['images'][TEST_INDEX], cmap='gray_r')\n",
    "\n",
    "pixels = [x for x in df.columns if x.startswith('pixel_')]\n",
    "\n",
    "df_train = df.loc[df.index != TEST_INDEX]\n",
    "ar_test = df.loc[TEST_INDEX, pixels].values.reshape(1, -1)\n",
    "\n",
    "mlp = MLPClassifier(hidden_layer_sizes=(128,)*3, max_iter=1000, random_state=1)\n",
    "mlp.fit(df_train[pixels], df_train['target'])\n",
    "prediction = mlp.predict(ar_test)\n",
    "\n",
    "plt.title('The predicted number is {}'.format(prediction[0]))\n",
    "plt.show()"
   ]
  },
  {
   "cell_type": "markdown",
   "metadata": {},
   "source": [
    "# Conclusion\n",
    "\n",
    "In this project, we implemented a classic multi-layer neural network to label handwritten digits from 0 to 9, and compared the results with a K-Nearest Neighbors algorithm. The handwritten digits used were 8x8 images taken from the sklearn library.\n",
    "\n",
    "The final accuracies of the K-nearest neighbor and multi-layer neural network algorithms are 96.8% and 95.2%, respectively. Although the K-nearest neighboor model has a slight accuracy advantage, the deep learning models and more faster to test. It also seems like both models tend to overfit, which might be a consequence of the small number of observations in the data, and could be improved by playing with the alpha parameter in the MLP classifier."
   ]
  }
 ],
 "metadata": {
  "anaconda-cloud": {},
  "kernelspec": {
   "display_name": "Python 3",
   "language": "python",
   "name": "python3"
  },
  "language_info": {
   "codemirror_mode": {
    "name": "ipython",
    "version": 3
   },
   "file_extension": ".py",
   "mimetype": "text/x-python",
   "name": "python",
   "nbconvert_exporter": "python",
   "pygments_lexer": "ipython3",
   "version": "3.7.4"
  }
 },
 "nbformat": 4,
 "nbformat_minor": 2
}
