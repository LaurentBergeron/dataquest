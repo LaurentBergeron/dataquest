{
 "cells": [
  {
   "cell_type": "markdown",
   "metadata": {
    "collapsed": true
   },
   "source": [
    "# World demographics analysis with the CIA factbook\n",
    "\n",
    "This short project answers a few world demographics questions using data taken from the [CIA world factbook](https://www.cia.gov/library/publications/the-world-factbook/). The data is saved as a SQL database which we will manage using a Python library for SQLite.  \n",
    "\n",
    "Questions answered in this project are:\n",
    "* Which countries have the lowest and highest populations?\n",
    "* Which countries have the lowest and highest population growth?\n",
    "* What are the disbributions of birth rates and death rates for all countries?\n",
    "* Which countries have the highest population densities?\n",
    "* Which countries have the highest water to land ratio?\n"
   ]
  },
  {
   "cell_type": "code",
   "execution_count": 21,
   "metadata": {},
   "outputs": [
    {
     "data": {
      "text/html": [
       "<div>\n",
       "<style scoped>\n",
       "    .dataframe tbody tr th:only-of-type {\n",
       "        vertical-align: middle;\n",
       "    }\n",
       "\n",
       "    .dataframe tbody tr th {\n",
       "        vertical-align: top;\n",
       "    }\n",
       "\n",
       "    .dataframe thead th {\n",
       "        text-align: right;\n",
       "    }\n",
       "</style>\n",
       "<table border=\"1\" class=\"dataframe\">\n",
       "  <thead>\n",
       "    <tr style=\"text-align: right;\">\n",
       "      <th></th>\n",
       "      <th>id</th>\n",
       "      <th>code</th>\n",
       "      <th>name</th>\n",
       "      <th>area</th>\n",
       "      <th>area_land</th>\n",
       "      <th>area_water</th>\n",
       "      <th>population</th>\n",
       "      <th>population_growth</th>\n",
       "      <th>birth_rate</th>\n",
       "      <th>death_rate</th>\n",
       "      <th>migration_rate</th>\n",
       "    </tr>\n",
       "  </thead>\n",
       "  <tbody>\n",
       "    <tr>\n",
       "      <th>0</th>\n",
       "      <td>1</td>\n",
       "      <td>af</td>\n",
       "      <td>Afghanistan</td>\n",
       "      <td>652230.0</td>\n",
       "      <td>652230.0</td>\n",
       "      <td>0.0</td>\n",
       "      <td>32564342.0</td>\n",
       "      <td>2.32</td>\n",
       "      <td>38.57</td>\n",
       "      <td>13.89</td>\n",
       "      <td>1.51</td>\n",
       "    </tr>\n",
       "    <tr>\n",
       "      <th>1</th>\n",
       "      <td>2</td>\n",
       "      <td>al</td>\n",
       "      <td>Albania</td>\n",
       "      <td>28748.0</td>\n",
       "      <td>27398.0</td>\n",
       "      <td>1350.0</td>\n",
       "      <td>3029278.0</td>\n",
       "      <td>0.30</td>\n",
       "      <td>12.92</td>\n",
       "      <td>6.58</td>\n",
       "      <td>3.30</td>\n",
       "    </tr>\n",
       "    <tr>\n",
       "      <th>2</th>\n",
       "      <td>3</td>\n",
       "      <td>ag</td>\n",
       "      <td>Algeria</td>\n",
       "      <td>2381741.0</td>\n",
       "      <td>2381741.0</td>\n",
       "      <td>0.0</td>\n",
       "      <td>39542166.0</td>\n",
       "      <td>1.84</td>\n",
       "      <td>23.67</td>\n",
       "      <td>4.31</td>\n",
       "      <td>0.92</td>\n",
       "    </tr>\n",
       "    <tr>\n",
       "      <th>3</th>\n",
       "      <td>4</td>\n",
       "      <td>an</td>\n",
       "      <td>Andorra</td>\n",
       "      <td>468.0</td>\n",
       "      <td>468.0</td>\n",
       "      <td>0.0</td>\n",
       "      <td>85580.0</td>\n",
       "      <td>0.12</td>\n",
       "      <td>8.13</td>\n",
       "      <td>6.96</td>\n",
       "      <td>0.00</td>\n",
       "    </tr>\n",
       "    <tr>\n",
       "      <th>4</th>\n",
       "      <td>5</td>\n",
       "      <td>ao</td>\n",
       "      <td>Angola</td>\n",
       "      <td>1246700.0</td>\n",
       "      <td>1246700.0</td>\n",
       "      <td>0.0</td>\n",
       "      <td>19625353.0</td>\n",
       "      <td>2.78</td>\n",
       "      <td>38.78</td>\n",
       "      <td>11.49</td>\n",
       "      <td>0.46</td>\n",
       "    </tr>\n",
       "  </tbody>\n",
       "</table>\n",
       "</div>"
      ],
      "text/plain": [
       "   id code         name       area  area_land  area_water  population  \\\n",
       "0   1   af  Afghanistan   652230.0   652230.0         0.0  32564342.0   \n",
       "1   2   al      Albania    28748.0    27398.0      1350.0   3029278.0   \n",
       "2   3   ag      Algeria  2381741.0  2381741.0         0.0  39542166.0   \n",
       "3   4   an      Andorra      468.0      468.0         0.0     85580.0   \n",
       "4   5   ao       Angola  1246700.0  1246700.0         0.0  19625353.0   \n",
       "\n",
       "   population_growth  birth_rate  death_rate  migration_rate  \n",
       "0               2.32       38.57       13.89            1.51  \n",
       "1               0.30       12.92        6.58            3.30  \n",
       "2               1.84       23.67        4.31            0.92  \n",
       "3               0.12        8.13        6.96            0.00  \n",
       "4               2.78       38.78       11.49            0.46  "
      ]
     },
     "execution_count": 21,
     "metadata": {},
     "output_type": "execute_result"
    }
   ],
   "source": [
    "import pandas as pd\n",
    "import sqlite3\n",
    "\n",
    "# Connect to database from the CIA factbook\n",
    "conn = sqlite3.connect('factbook.db')\n",
    "\n",
    "# Print the first 5 rows of the \"facts\" table\n",
    "query = \"SELECT * FROM facts\"\n",
    "pd.read_sql_query(query, conn).head()\n"
   ]
  },
  {
   "cell_type": "markdown",
   "metadata": {},
   "source": [
    "We can start by looking at outlier countries. Let's look at :  \n",
    "* Min/max population\n",
    "* Min/max population growth"
   ]
  },
  {
   "cell_type": "code",
   "execution_count": 20,
   "metadata": {},
   "outputs": [
    {
     "name": "stdout",
     "output_type": "stream",
     "text": [
      "Min. pop.: 0\n",
      "Max. pop.: 7256490011\n",
      "Min. pop. growth: 0.0 %\n",
      "Max. pop. growth: 4.02 %\n"
     ]
    }
   ],
   "source": [
    "# Query minimum population from database\n",
    "query = \"SELECT MIN(population) FROM facts\"\n",
    "print('Min. pop.:', pd.read_sql_query(query, conn).iloc[0,0])\n",
    "\n",
    "# Query maximum population from database\n",
    "query = \"SELECT MAX(population) FROM facts\"\n",
    "print('Max. pop.:', pd.read_sql_query(query, conn).iloc[0,0])\n",
    "\n",
    "# Query minimum population growth from database\n",
    "query = \"SELECT MIN(population_growth) FROM facts\"\n",
    "print('Min. pop. growth:', pd.read_sql_query(query, conn).iloc[0,0], '%')\n",
    "\n",
    "# Query maximum population growth from database\n",
    "query = \"SELECT MAX(population_growth) FROM facts\"\n",
    "print('Max. pop. growth:', pd.read_sql_query(query, conn).iloc[0,0], '%')"
   ]
  },
  {
   "cell_type": "markdown",
   "metadata": {},
   "source": [
    "There is a country with a population of zero. This needs to be investigated. Also, a country with 7 billion habitants is no possible - this is close to the world population."
   ]
  },
  {
   "cell_type": "code",
   "execution_count": 31,
   "metadata": {},
   "outputs": [
    {
     "data": {
      "text/html": [
       "<div>\n",
       "<style scoped>\n",
       "    .dataframe tbody tr th:only-of-type {\n",
       "        vertical-align: middle;\n",
       "    }\n",
       "\n",
       "    .dataframe tbody tr th {\n",
       "        vertical-align: top;\n",
       "    }\n",
       "\n",
       "    .dataframe thead th {\n",
       "        text-align: right;\n",
       "    }\n",
       "</style>\n",
       "<table border=\"1\" class=\"dataframe\">\n",
       "  <thead>\n",
       "    <tr style=\"text-align: right;\">\n",
       "      <th></th>\n",
       "      <th>name</th>\n",
       "      <th>population</th>\n",
       "    </tr>\n",
       "  </thead>\n",
       "  <tbody>\n",
       "    <tr>\n",
       "      <th>0</th>\n",
       "      <td>Antarctica</td>\n",
       "      <td>0</td>\n",
       "    </tr>\n",
       "  </tbody>\n",
       "</table>\n",
       "</div>"
      ],
      "text/plain": [
       "         name  population\n",
       "0  Antarctica           0"
      ]
     },
     "execution_count": 31,
     "metadata": {},
     "output_type": "execute_result"
    }
   ],
   "source": [
    "# Query country with the minimum population\n",
    "query = \"SELECT name, population FROM facts \" + \\\n",
    "        \"WHERE population=0 \"\n",
    "pd.read_sql_query(query, conn)"
   ]
  },
  {
   "cell_type": "markdown",
   "metadata": {},
   "source": [
    "Checks out. Antartica hosts a few scientists but there are no indigenous residents. Now, which country was the one with highest population?"
   ]
  },
  {
   "cell_type": "code",
   "execution_count": 32,
   "metadata": {},
   "outputs": [
    {
     "data": {
      "text/html": [
       "<div>\n",
       "<style scoped>\n",
       "    .dataframe tbody tr th:only-of-type {\n",
       "        vertical-align: middle;\n",
       "    }\n",
       "\n",
       "    .dataframe tbody tr th {\n",
       "        vertical-align: top;\n",
       "    }\n",
       "\n",
       "    .dataframe thead th {\n",
       "        text-align: right;\n",
       "    }\n",
       "</style>\n",
       "<table border=\"1\" class=\"dataframe\">\n",
       "  <thead>\n",
       "    <tr style=\"text-align: right;\">\n",
       "      <th></th>\n",
       "      <th>name</th>\n",
       "      <th>population</th>\n",
       "    </tr>\n",
       "  </thead>\n",
       "  <tbody>\n",
       "    <tr>\n",
       "      <th>0</th>\n",
       "      <td>World</td>\n",
       "      <td>7256490011</td>\n",
       "    </tr>\n",
       "  </tbody>\n",
       "</table>\n",
       "</div>"
      ],
      "text/plain": [
       "    name  population\n",
       "0  World  7256490011"
      ]
     },
     "execution_count": 32,
     "metadata": {},
     "output_type": "execute_result"
    }
   ],
   "source": [
    "# Query country with the maximum population\n",
    "query = \"SELECT name, population FROM facts \" + \\\n",
    "        \"WHERE population=7256490011 \"\n",
    "pd.read_sql_query(query, conn)"
   ]
  },
  {
   "cell_type": "markdown",
   "metadata": {},
   "source": [
    "World is also a row of this database, which is why the population was so high. So we need to look at the row with the second highest population."
   ]
  },
  {
   "cell_type": "code",
   "execution_count": 38,
   "metadata": {},
   "outputs": [
    {
     "data": {
      "text/html": [
       "<div>\n",
       "<style scoped>\n",
       "    .dataframe tbody tr th:only-of-type {\n",
       "        vertical-align: middle;\n",
       "    }\n",
       "\n",
       "    .dataframe tbody tr th {\n",
       "        vertical-align: top;\n",
       "    }\n",
       "\n",
       "    .dataframe thead th {\n",
       "        text-align: right;\n",
       "    }\n",
       "</style>\n",
       "<table border=\"1\" class=\"dataframe\">\n",
       "  <thead>\n",
       "    <tr style=\"text-align: right;\">\n",
       "      <th></th>\n",
       "      <th>name</th>\n",
       "      <th>population</th>\n",
       "    </tr>\n",
       "  </thead>\n",
       "  <tbody>\n",
       "    <tr>\n",
       "      <th>0</th>\n",
       "      <td>World</td>\n",
       "      <td>7256490011</td>\n",
       "    </tr>\n",
       "    <tr>\n",
       "      <th>1</th>\n",
       "      <td>China</td>\n",
       "      <td>1367485388</td>\n",
       "    </tr>\n",
       "    <tr>\n",
       "      <th>2</th>\n",
       "      <td>India</td>\n",
       "      <td>1251695584</td>\n",
       "    </tr>\n",
       "  </tbody>\n",
       "</table>\n",
       "</div>"
      ],
      "text/plain": [
       "    name  population\n",
       "0  World  7256490011\n",
       "1  China  1367485388\n",
       "2  India  1251695584"
      ]
     },
     "execution_count": 38,
     "metadata": {},
     "output_type": "execute_result"
    }
   ],
   "source": [
    "# Query highest population countries\n",
    "query = \"SELECT name, population FROM facts \" + \\\n",
    "        \"ORDER BY population DESC \" + \\\n",
    "        \"LIMIT 3\"\n",
    "pd.read_sql_query(query, conn)"
   ]
  },
  {
   "cell_type": "markdown",
   "metadata": {},
   "source": [
    "China is the country with highest population, seconded by India.\n",
    "\n",
    "In the next step, we want to plot histograms of population, population growth, birth rate and death rate for countries."
   ]
  },
  {
   "cell_type": "code",
   "execution_count": 59,
   "metadata": {},
   "outputs": [
    {
     "data": {
      "image/png": "[encoded data removed]",
      "text/plain": [
       "<matplotlib.figure.Figure at 0x7f0d588737b8>"
      ]
     },
     "metadata": {},
     "output_type": "display_data"
    }
   ],
   "source": [
    "# Build dataframe\n",
    "query = \"SELECT population, population_growth, birth_rate, death_rate FROM facts \" + \\\n",
    "        \"WHERE name!='World' AND name!='Antartica' AND name!='European Union'\"\n",
    "df = pd.read_sql_query(query, conn)\n",
    "\n",
    "# Build histograms\n",
    "import matplotlib.pyplot as plt\n",
    "%matplotlib inline\n",
    "axes = df.hist(bins=20, layout=(2,2))\n",
    "axes[1,0].set_xlim(0, 1.5e9)\n",
    "plt.show()"
   ]
  },
  {
   "cell_type": "markdown",
   "metadata": {},
   "source": [
    "The birth rate is really skewed towards high birth dates, with the death rate approximately follows a Bell curve. High population countries are really rare compared to countries with populations below ~100e6. Because birth rates are generally higher than death rates (eyeballing averages of 15% vs 7%), population growth is almost exclusively positive."
   ]
  },
  {
   "cell_type": "markdown",
   "metadata": {},
   "source": [
    "In the next question, we ask which countries have the highest population density."
   ]
  },
  {
   "cell_type": "code",
   "execution_count": 61,
   "metadata": {},
   "outputs": [
    {
     "data": {
      "text/html": [
       "<div>\n",
       "<style scoped>\n",
       "    .dataframe tbody tr th:only-of-type {\n",
       "        vertical-align: middle;\n",
       "    }\n",
       "\n",
       "    .dataframe tbody tr th {\n",
       "        vertical-align: top;\n",
       "    }\n",
       "\n",
       "    .dataframe thead th {\n",
       "        text-align: right;\n",
       "    }\n",
       "</style>\n",
       "<table border=\"1\" class=\"dataframe\">\n",
       "  <thead>\n",
       "    <tr style=\"text-align: right;\">\n",
       "      <th></th>\n",
       "      <th>name</th>\n",
       "      <th>population_density</th>\n",
       "    </tr>\n",
       "  </thead>\n",
       "  <tbody>\n",
       "    <tr>\n",
       "      <th>0</th>\n",
       "      <td>Macau</td>\n",
       "      <td>21168</td>\n",
       "    </tr>\n",
       "    <tr>\n",
       "      <th>1</th>\n",
       "      <td>Monaco</td>\n",
       "      <td>15267</td>\n",
       "    </tr>\n",
       "    <tr>\n",
       "      <th>2</th>\n",
       "      <td>Singapore</td>\n",
       "      <td>8259</td>\n",
       "    </tr>\n",
       "    <tr>\n",
       "      <th>3</th>\n",
       "      <td>Hong Kong</td>\n",
       "      <td>6655</td>\n",
       "    </tr>\n",
       "    <tr>\n",
       "      <th>4</th>\n",
       "      <td>Gaza Strip</td>\n",
       "      <td>5191</td>\n",
       "    </tr>\n",
       "  </tbody>\n",
       "</table>\n",
       "</div>"
      ],
      "text/plain": [
       "         name  population_density\n",
       "0       Macau               21168\n",
       "1      Monaco               15267\n",
       "2   Singapore                8259\n",
       "3   Hong Kong                6655\n",
       "4  Gaza Strip                5191"
      ]
     },
     "execution_count": 61,
     "metadata": {},
     "output_type": "execute_result"
    }
   ],
   "source": [
    "# Query highest population density countries\n",
    "query = \"SELECT name, population/area_land AS population_density FROM facts \" + \\\n",
    "        \"ORDER BY population_density DESC \" + \\\n",
    "        \"LIMIT 5\"\n",
    "pd.read_sql_query(query, conn)"
   ]
  },
  {
   "cell_type": "markdown",
   "metadata": {},
   "source": [
    "We can then visualize the population density from all countries in a histogram: "
   ]
  },
  {
   "cell_type": "code",
   "execution_count": 73,
   "metadata": {},
   "outputs": [
    {
     "data": {
      "image/png": "[encoded data removed]",
      "text/plain": [
       "<matplotlib.figure.Figure at 0x7f0d586f4400>"
      ]
     },
     "metadata": {},
     "output_type": "display_data"
    }
   ],
   "source": [
    "# Query highest population density countries\n",
    "query = \"SELECT name, population/area_land AS population_density FROM facts \" + \\\n",
    "        \"ORDER BY population_density DESC \"\n",
    "df = pd.read_sql_query(query, conn)\n",
    "\n",
    "# Plot histogram\n",
    "ax = df.hist(bins=20, range=(0,1000))"
   ]
  },
  {
   "cell_type": "markdown",
   "metadata": {},
   "source": [
    "Most countries have population densities below 50 persons per km^2. \n",
    "\n",
    "In the following set of questions, we ask: \n",
    "* Which countries have the highest ratios of water to land? \n",
    "* Which countries have more water than land?"
   ]
  },
  {
   "cell_type": "code",
   "execution_count": 87,
   "metadata": {},
   "outputs": [
    {
     "name": "stdout",
     "output_type": "stream",
     "text": [
      "5 top countries with highest ratio of water to land\n",
      "                             name       ratio\n",
      "0  British Indian Ocean Territory  905.666667\n",
      "1                  Virgin Islands    4.520231\n",
      "2                     Puerto Rico    0.554791\n",
      "3                    Bahamas, The    0.386613\n",
      "4                   Guinea-Bissau    0.284673\n",
      "\n",
      "\n",
      "Countries with more water than land\n",
      "                             name       ratio\n",
      "0  British Indian Ocean Territory  905.666667\n",
      "1                  Virgin Islands    4.520231\n",
      "2                     Puerto Rico    0.554791\n"
     ]
    }
   ],
   "source": [
    "# Query highest water to land ratio countries\n",
    "query = \"SELECT name, cast(area_water as float)/area_land as ratio FROM facts \" + \\\n",
    "        \"ORDER BY ratio DESC \" + \\\n",
    "        \"LIMIT 5\"\n",
    "print('5 top countries with highest ratio of water to land')\n",
    "print(pd.read_sql_query(query, conn))\n",
    "\n",
    "# Query countries with more water than land\n",
    "query = \"SELECT name, cast(area_water as float)/cast(area_land as float) as ratio FROM facts \" + \\\n",
    "        \"WHERE ratio>0.5 \" + \\\n",
    "        \"ORDER BY ratio DESC \"\n",
    "print('\\n\\nCountries with more water than land')\n",
    "print(pd.read_sql_query(query, conn))"
   ]
  },
  {
   "cell_type": "markdown",
   "metadata": {},
   "source": [
    "The most surprising result here is the British Indian Ocean Territory, with a water to land area ratio of 900! This actually consists of very small islands and a lot of ocean, explaining the ratio."
   ]
  },
  {
   "cell_type": "markdown",
   "metadata": {},
   "source": [
    "# Conclusion\n",
    "\n",
    "In this notebook, we used data taken from the [CIA world factbook](https://www.cia.gov/library/publications/the-world-factbook/) to answer world demographics questions. We learned that the lowest population country is Antartica, and the highest population country is China, closely seconded by India. The vast majority of countries have populations below 100e6. We observed that the birth rate is really skewed towards high birth dates, with the death rate approximately follows a Bell curve. The three countries with the highest population densities are Macau, Monaco, and Singapore. Finally, the only three countries with more water than land are British Indian Ocean Territory, ?\n",
    "\n"
   ]
  }
 ],
 "metadata": {
  "kernelspec": {
   "display_name": "Python 3",
   "language": "python",
   "name": "python3"
  },
  "language_info": {
   "codemirror_mode": {
    "name": "ipython",
    "version": 3
   },
   "file_extension": ".py",
   "mimetype": "text/x-python",
   "name": "python",
   "nbconvert_exporter": "python",
   "pygments_lexer": "ipython3",
   "version": "3.7.4"
  }
 },
 "nbformat": 4,
 "nbformat_minor": 2
}
